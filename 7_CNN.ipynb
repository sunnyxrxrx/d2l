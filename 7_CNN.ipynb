{
 "cells": [
  {
   "cell_type": "code",
   "execution_count": 3,
   "id": "06816a7e-774a-4724-b9fe-9d170bc36af7",
   "metadata": {},
   "outputs": [],
   "source": [
    "import torch\n",
    "from torch import nn\n",
    "from d2l import torch as d2l"
   ]
  },
  {
   "cell_type": "code",
   "execution_count": 16,
   "id": "2c8b0dab-23fd-4ca1-b206-e9016f4928e2",
   "metadata": {},
   "outputs": [],
   "source": [
    "def corr2d(X,K):\n",
    "    h,w=K.shape\n",
    "    Y=torch.zeros((X.shape[0]-h+1,X.shape[1]-w+1))\n",
    "    for i in range(Y.shape[0]):\n",
    "        for j in range(Y.shape[1]):\n",
    "            Y[i,j]=(X[i:i+h,j:j+w]*K).sum()\n",
    "    return Y"
   ]
  },
  {
   "cell_type": "code",
   "execution_count": 9,
   "id": "b2985a08-eb52-4fa3-a73f-b6078c426c0d",
   "metadata": {},
   "outputs": [
    {
     "data": {
      "text/plain": [
       "tensor([[19., 25.],\n",
       "        [37., 43.]])"
      ]
     },
     "execution_count": 9,
     "metadata": {},
     "output_type": "execute_result"
    }
   ],
   "source": [
    "X=torch.tensor([[0.0,1.0,2.0],[3.0,4.0,5.0],[6.0,7.0,8.0]])\n",
    "K=torch.tensor([[0.0,1.0],[2.0,3.0]])\n",
    "corr2d(X,K)"
   ]
  },
  {
   "cell_type": "code",
   "execution_count": 18,
   "id": "6f518184-33d2-4afd-9cc7-017d053f9143",
   "metadata": {},
   "outputs": [
    {
     "data": {
      "text/plain": [
       "tensor([[ 0.,  1.,  0.,  0.,  0., -1.,  0.],\n",
       "        [ 0.,  1.,  0.,  0.,  0., -1.,  0.],\n",
       "        [ 0.,  1.,  0.,  0.,  0., -1.,  0.],\n",
       "        [ 0.,  1.,  0.,  0.,  0., -1.,  0.],\n",
       "        [ 0.,  1.,  0.,  0.,  0., -1.,  0.],\n",
       "        [ 0.,  1.,  0.,  0.,  0., -1.,  0.]])"
      ]
     },
     "execution_count": 18,
     "metadata": {},
     "output_type": "execute_result"
    }
   ],
   "source": [
    "X=torch.ones((6,8))\n",
    "X[:,2:6]=0\n",
    "K=torch.tensor([[1.0,-1.0]])\n",
    "Y=corr2d(X,K)\n",
    "Y"
   ]
  },
  {
   "cell_type": "code",
   "execution_count": 22,
   "id": "d546b2dd-1b80-41b4-8c53-af86094b709b",
   "metadata": {},
   "outputs": [
    {
     "name": "stdout",
     "output_type": "stream",
     "text": [
      "epoch1,loss13.023\n",
      "epoch2,loss10.071\n",
      "epoch3,loss7.796\n",
      "epoch4,loss6.037\n",
      "epoch5,loss4.675\n",
      "epoch6,loss3.620\n",
      "epoch7,loss2.804\n",
      "epoch8,loss2.171\n",
      "epoch9,loss1.681\n",
      "epoch10,loss1.302\n",
      "epoch11,loss1.008\n",
      "epoch12,loss0.781\n",
      "epoch13,loss0.605\n",
      "epoch14,loss0.468\n",
      "epoch15,loss0.363\n",
      "epoch16,loss0.281\n",
      "epoch17,loss0.217\n",
      "epoch18,loss0.168\n",
      "epoch19,loss0.130\n",
      "epoch20,loss0.101\n"
     ]
    },
    {
     "data": {
      "text/plain": [
       "tensor([[[[ 0.9193, -0.9193]]]])"
      ]
     },
     "execution_count": 22,
     "metadata": {},
     "output_type": "execute_result"
    }
   ],
   "source": [
    "conv2d=nn.LazyConv2d(1,kernel_size=(1,2),bias=False)#1是输出通道数\n",
    "X=X.reshape((1,1,6,8))\n",
    "Y=Y.reshape((1,1,6,7))\n",
    "lr=1e-2\n",
    "for i in range(20):\n",
    "    Y_hat=conv2d(X)\n",
    "    l=(Y_hat-Y)**2\n",
    "    conv2d.zero_grad()\n",
    "    l.sum().backward()\n",
    "    conv2d.weight.data[:]-=lr*conv2d.weight.grad\n",
    "    print(f\"epoch{i+1},loss{l.sum():.3f}\")\n",
    "conv2d.weight.data"
   ]
  },
  {
   "cell_type": "code",
   "execution_count": null,
   "id": "2c4ac464-12a4-4b81-a079-146ef421bb02",
   "metadata": {},
   "outputs": [],
   "source": [
    "## "
   ]
  },
  {
   "cell_type": "code",
   "execution_count": 24,
   "id": "a88eb008-7b78-4009-b62e-831c7cb894d4",
   "metadata": {},
   "outputs": [
    {
     "data": {
      "text/plain": [
       "torch.Size([8, 8])"
      ]
     },
     "execution_count": 24,
     "metadata": {},
     "output_type": "execute_result"
    }
   ],
   "source": [
    "import torch\n",
    "from torch import nn\n",
    "\n",
    "def comp_conv2d(conv2d, X):\n",
    "    #批量大小和通道数都是1\n",
    "    X = X.reshape((1, 1) + X.shape)\n",
    "    Y = conv2d(X)\n",
    "    return Y.reshape(Y.shape[2:])\n",
    "conv2d=nn.Conv2d(1, 1, kernel_size=3, padding=1)\n",
    "X=torch.rand(size=(8, 8))\n",
    "comp_conv2d(conv2d, X).shape\n",
    "#8-3+1+1*2"
   ]
  },
  {
   "cell_type": "code",
   "execution_count": 30,
   "id": "b9635924-d706-44fe-a843-4ded076196ae",
   "metadata": {},
   "outputs": [
    {
     "data": {
      "text/plain": [
       "torch.Size([8, 8])"
      ]
     },
     "execution_count": 30,
     "metadata": {},
     "output_type": "execute_result"
    }
   ],
   "source": [
    "conv2d=nn.Conv2d(1, 1, kernel_size=(5, 3), padding=(2, 1))\n",
    "comp_conv2d(conv2d, X).shape\n",
    "#8-5+2*2+1\n",
    "#8-3+1*2+1"
   ]
  },
  {
   "cell_type": "code",
   "execution_count": 31,
   "id": "6247afd4-3dee-40ff-bf7b-771cd5fd5c61",
   "metadata": {},
   "outputs": [
    {
     "data": {
      "text/plain": [
       "torch.Size([2, 2])"
      ]
     },
     "execution_count": 31,
     "metadata": {},
     "output_type": "execute_result"
    }
   ],
   "source": [
    "conv2d=nn.Conv2d(1, 1, kernel_size=(3, 5), padding=(0, 1), stride=(3, 4))\n",
    "comp_conv2d(conv2d, X).shape\n",
    "#(8-3-0+3)/3=2\n",
    "#(8-5+1*2+4)/4=2\n",
    "#记得不用加1"
   ]
  },
  {
   "cell_type": "markdown",
   "id": "3de98bf9-a400-4069-8ff4-2971c7bc592f",
   "metadata": {},
   "source": [
    "## 多通道"
   ]
  },
  {
   "cell_type": "code",
   "execution_count": 33,
   "id": "1ca98ecd-3802-4949-b037-4493f5e0506c",
   "metadata": {},
   "outputs": [],
   "source": [
    "def corr2d_multi_in(X, K):\n",
    "    #先遍历通道维度，再把它们加在一起\n",
    "    return sum(d2l.corr2d(x, k) for x, k in zip(X, K))"
   ]
  },
  {
   "cell_type": "code",
   "execution_count": 34,
   "id": "a56d58ca-017a-4bb3-afe5-e5d072331268",
   "metadata": {},
   "outputs": [
    {
     "data": {
      "text/plain": [
       "tensor([[ 56.,  72.],\n",
       "        [104., 120.]])"
      ]
     },
     "execution_count": 34,
     "metadata": {},
     "output_type": "execute_result"
    }
   ],
   "source": [
    "X=torch.tensor([[[0.0, 1.0, 2.0], [3.0, 4.0, 5.0], [6.0, 7.0, 8.0]],\n",
    "               [[1.0, 2.0, 3.0], [4.0, 5.0, 6.0], [7.0, 8.0, 9.0]]])\n",
    "K=torch.tensor([[[0.0, 1.0], [2.0, 3.0]], [[1.0, 2.0], [3.0, 4.0]]])\n",
    "\n",
    "corr2d_multi_in(X, K)"
   ]
  },
  {
   "cell_type": "code",
   "execution_count": 36,
   "id": "fa3ec4b9-4bbd-4acb-a755-316150927939",
   "metadata": {},
   "outputs": [
    {
     "data": {
      "text/plain": [
       "tensor([[[ 56.,  72.],\n",
       "         [104., 120.]],\n",
       "\n",
       "        [[ 76., 100.],\n",
       "         [148., 172.]],\n",
       "\n",
       "        [[ 96., 128.],\n",
       "         [192., 224.]]])"
      ]
     },
     "execution_count": 36,
     "metadata": {},
     "output_type": "execute_result"
    }
   ],
   "source": [
    "def corr2d_multi_in_out(X, K):\n",
    "    #stack将所有结果都叠加在一起，0是维度\n",
    "    return torch.stack([corr2d_multi_in(X, k) for k in K], 0)\n",
    "K=torch.stack((K, K + 1, K + 2), 0)\n",
    "corr2d_multi_in_out(X, K)"
   ]
  },
  {
   "cell_type": "markdown",
   "id": "c71311e2-8f2c-4fff-990e-f78c35626640",
   "metadata": {},
   "source": [
    "## pooling"
   ]
  },
  {
   "cell_type": "code",
   "execution_count": 38,
   "id": "578eea64-f417-494a-afa7-42ff4996ee31",
   "metadata": {},
   "outputs": [
    {
     "name": "stdout",
     "output_type": "stream",
     "text": [
      "tensor([[4., 5.],\n",
      "        [7., 8.]])\n",
      "tensor([[2., 3.],\n",
      "        [5., 6.]])\n"
     ]
    }
   ],
   "source": [
    "def pool2d(X, pool_size, mode='max'):\n",
    "    p_h, p_w = pool_size\n",
    "    Y = torch.zeros((X.shape[0]-p_h + 1, X.shape[1]- p_w+ 1))\n",
    "    for i in range(Y.shape[0]):\n",
    "        for j in range(Y.shape[1]):\n",
    "            if mode == 'max':\n",
    "                Y[i, j]=X[i: i + p_h, j: j + p_w].max()\n",
    "            elif mode == 'avg':\n",
    "                Y[i, j]=X[i: i + p_h, j: j + p_w].mean()\n",
    "    return Y\n",
    "X=torch.tensor([[0.0, 1.0, 2.0], [3.0, 4.0, 5.0], [6.0, 7.0, 8.0]])\n",
    "print(pool2d(X,(2,2)))\n",
    "print(pool2d(X,(2,2),mode='avg'))"
   ]
  },
  {
   "cell_type": "code",
   "execution_count": 42,
   "id": "b778b42e-101a-496a-92d4-62bf20774218",
   "metadata": {},
   "outputs": [
    {
     "data": {
      "text/plain": [
       "torch.Size([1, 1, 2, 2])"
      ]
     },
     "execution_count": 42,
     "metadata": {},
     "output_type": "execute_result"
    }
   ],
   "source": [
    "#含有stride和padding\n",
    "X=torch.arange(16, dtype=torch.float32).reshape((1, 1, 4, 4))\n",
    "pool2d=nn.MaxPool2d((2, 3), stride=(2, 3), padding=(0, 1))\n",
    "#(4-2+0+2)/2=2\n",
    "#(4-3+1*2+3)/3=2\n",
    "pool2d(X).shape"
   ]
  }
 ],
 "metadata": {
  "kernelspec": {
   "display_name": "d2l",
   "language": "python",
   "name": "d2l"
  },
  "language_info": {
   "codemirror_mode": {
    "name": "ipython",
    "version": 3
   },
   "file_extension": ".py",
   "mimetype": "text/x-python",
   "name": "python",
   "nbconvert_exporter": "python",
   "pygments_lexer": "ipython3",
   "version": "3.9.0"
  }
 },
 "nbformat": 4,
 "nbformat_minor": 5
}
